{
 "cells": [
  {
   "cell_type": "markdown",
   "metadata": {},
   "source": [
    "# Selecting Gendered-Terms in PSALMS of SOLOMON"
   ]
  },
  {
   "cell_type": "markdown",
   "metadata": {},
   "source": [
    "The Psalms of Solomon is a collection of 18 psalms in classical Greek, composed in Judea in the first or second centuries BCE. Since I am working on an article about the representation of gender in this composition, I am interested in using computational language processing techniques to capture and analyze relevant data. The exercise I chose for this assignment is to find instances of the terms \"woman\", \"father\", \"mother\", \"son\", and \"daughter\".\n",
    "\n",
    "A description of the process is provided in the final cell, following the coding."
   ]
  },
  {
   "cell_type": "code",
   "execution_count": 1,
   "metadata": {},
   "outputs": [],
   "source": [
    "# Import the textual data from https://sacred-texts.com and writing to a file \"pss\"\n",
    "\n",
    "import requests_html\n",
    "\n",
    "# Iterate over chapter numbers in URL to get complete text without line numbers or link to next page\n",
    "\n",
    "session = requests_html.HTMLSession()\n",
    "with open(\"tag.txt\", \"w\",) as pss:\n",
    "\n",
    "    for psalm in range(1,19):\n",
    "    \n",
    "        URL = \"https://sacred-texts.com/bib/sep/pss\" + f'{psalm:03d}' + \".htm\"\n",
    "        SELECTOR = \"//p/text()\"\n",
    "\n",
    "        request = session.get(URL)\n",
    "\n",
    "        for tag in request.html.xpath(SELECTOR):\n",
    "            print(tag.lstrip(), file=pss)\n",
    "            \n",
    "        print(file=pss)"
   ]
  },
  {
   "cell_type": "code",
   "execution_count": 2,
   "metadata": {},
   "outputs": [
    {
     "name": "stdout",
     "output_type": "stream",
     "text": [
      "γυναῖκα\n",
      "γυναικὶ\n",
      "γυναῖκα\n",
      "γυναικὸς\n",
      "γυναικὸς\n",
      "There are 5 occurences\n"
     ]
    }
   ],
   "source": [
    "# To search for woman, match each line with letter sequence \"γυν\"\n",
    "# Tokenize the file, with a line for each word, and match each line for γυν \n",
    "\n",
    "import re\n",
    "counter = 0\n",
    "\n",
    "with open(\"tag.txt\", \"r\") as pss:\n",
    "    for line in pss:\n",
    "        tokens = line.rstrip().split()\n",
    "        for token in tokens:\n",
    "            woman = re.search(\"γυν\", token)\n",
    "            if woman:\n",
    "                print(token)\n",
    "                counter += 1\n",
    "    print(\"There are\", counter, \"occurences\")"
   ]
  },
  {
   "cell_type": "code",
   "execution_count": 3,
   "metadata": {},
   "outputs": [
    {
     "name": "stdout",
     "output_type": "stream",
     "text": [
      "γυναῖκα\n",
      "γυναικὶ\n",
      "γυναῖκα\n",
      "γυναικὸς\n",
      "γυναικὸς\n",
      "There are 5 occurences\n"
     ]
    }
   ],
   "source": [
    "# Check for words with accent on the upsilon\n",
    "\n",
    "counter = 0\n",
    "with open(\"tag.txt\", \"r\") as pss:\n",
    "    for line in pss:\n",
    "        tokens = line.rstrip().split()\n",
    "        for token in tokens:\n",
    "            woman = re.match(\"γ(ύ|ϋ|ΰ|υ)\", token)\n",
    "            if woman:\n",
    "                print(token)\n",
    "                counter += 1\n",
    "    print(\"There are\", counter, \"occurences\")"
   ]
  },
  {
   "cell_type": "code",
   "execution_count": 4,
   "metadata": {},
   "outputs": [
    {
     "name": "stdout",
     "output_type": "stream",
     "text": [
      "πατὴρ\n",
      "πατὴρ\n",
      "πατέρες\n",
      "There are 3 occurences\n"
     ]
    }
   ],
   "source": [
    "# Search for father, using: πατ followed by ὴ or έ\n",
    "\n",
    "counter = 0\n",
    "with open(\"tag.txt\", \"r\") as pss:\n",
    "    for line in pss:\n",
    "        tokens = line.rstrip().split()\n",
    "        for token in tokens:\n",
    "            father = re.match(\"πατ(ὴ|έ)\", token)\n",
    "            if father:\n",
    "                print(token)\n",
    "                counter += 1\n",
    "    print(\"There are\", counter, \"occurences\")"
   ]
  },
  {
   "cell_type": "code",
   "execution_count": 5,
   "metadata": {},
   "outputs": [
    {
     "name": "stdout",
     "output_type": "stream",
     "text": [
      "μητρός\n",
      "μητρὸς\n",
      "There are 2 occurences\n"
     ]
    }
   ],
   "source": [
    "# To search for mother: μητ\n",
    "\n",
    "counter = 0\n",
    "with open(\"tag.txt\", \"r\") as pss:\n",
    "    for line in pss:\n",
    "        tokens = line.rstrip().split()\n",
    "        for token in tokens:\n",
    "            father = re.match(\"μητ\", token)\n",
    "            if father:\n",
    "                print(token)\n",
    "                counter += 1\n",
    "    print(\"There are\", counter, \"occurences\")"
   ]
  },
  {
   "cell_type": "code",
   "execution_count": 6,
   "metadata": {},
   "outputs": [
    {
     "name": "stdout",
     "output_type": "stream",
     "text": [
      "υἱοὶ\n",
      "υἱοὶ\n",
      "υἱοὺς\n",
      "υἱὸς\n",
      "υἱῶν\n",
      "υἱοὺς\n",
      "υἱοὺς\n",
      "υἱὸν\n",
      "υἱοὶ\n",
      "υἱὸν\n",
      "υἱοὶ\n",
      "υἱοὺς\n",
      "υἱοὺς\n",
      "υἱὸν\n",
      "There are 14 occurences\n"
     ]
    }
   ],
   "source": [
    "# To search for son: υἱ\n",
    "\n",
    "counter = 0\n",
    "with open(\"tag.txt\", \"r\") as pss:\n",
    "    for line in pss:\n",
    "        tokens = line.rstrip().split()\n",
    "        for token in tokens:\n",
    "            son = re.search(\"υἱ\", token)\n",
    "            if son:\n",
    "                print(token)\n",
    "                counter += 1\n",
    "    print(\"There are\", counter, \"occurences\")"
   ]
  },
  {
   "cell_type": "code",
   "execution_count": 7,
   "metadata": {},
   "outputs": [
    {
     "name": "stdout",
     "output_type": "stream",
     "text": [
      "θυγατέρες\n",
      "θυγατέρες\n",
      "θυγατρὸς\n",
      "θυγατέρας\n",
      "There are 4 occurences\n"
     ]
    }
   ],
   "source": [
    "# To search for daughter: θυγατ \n",
    "\n",
    "counter = 0\n",
    "with open(\"tag.txt\", \"r\") as pss:\n",
    "    for line in pss:\n",
    "        tokens = line.rstrip().split()\n",
    "        for token in tokens:\n",
    "            daughter = re.search(\"θυγατ\", token)\n",
    "            if daughter:\n",
    "                print(token)\n",
    "                counter += 1\n",
    "    print(\"There are\", counter, \"occurences\")"
   ]
  },
  {
   "cell_type": "code",
   "execution_count": 8,
   "metadata": {},
   "outputs": [
    {
     "name": "stdout",
     "output_type": "stream",
     "text": [
      "ἄνθρωπος\n",
      "ἄνθρωπός\n",
      "ἄνθρωπος\n",
      "ἄνθρωπος\n",
      "ἄνθρωπος\n",
      "ἄνθρωπος\n",
      "ἄνθρωπον\n",
      "ἄνθρωπος\n",
      "There are 8 occurences\n"
     ]
    }
   ],
   "source": [
    "# To search for daughter: θυγατ \n",
    "\n",
    "counter = 0\n",
    "with open(\"tag.txt\", \"r\") as pss:\n",
    "    for line in pss:\n",
    "        tokens = line.rstrip().split()\n",
    "        for token in tokens:\n",
    "            man = re.search(\"νθρωπ(ο|ό)\", token)\n",
    "            if man:\n",
    "                print(token)\n",
    "                counter += 1\n",
    "    print(\"There are\", counter, \"occurences\")"
   ]
  },
  {
   "cell_type": "markdown",
   "metadata": {},
   "source": [
    "I first needed to grab and scrape the online Greek text of the 18 chapters of Psalms of Solomon from the website https://sacred-texts.com/bib/sep/pss001.htm.\n",
    "\n",
    "Using the \"View\" option on my MacBook, I selected \"Developer\" and \"View Source\" to see the sources code for the site. The sacred-texts website uses html code and features one chapter per page. To get the cleaned text for each chapter, I iterated over all 18 chapters with a for loop, using zero-padding, to select only the text tagged as \"//p\" (this removed line numbers and links to \"Next\" psalm). The zero padding was necessary because the psalms in the URL are numbered from 001 to 018. \n",
    "\n",
    "I created a file tag.txt to store the scraped Greek text, to be called as pss.\n",
    "\n",
    "My next goal was to locate the terms for woman, i.e., words beginning with γυν.\n",
    "I initially thought I would try to use UNIMORPH, but found this too daunting, and realized that a simple regex search would suffice.\n",
    "\n",
    "When this worked, I also did separate searches for father, mother, son, and daughter. And then (hu)man, ἄνθρωπος. I performed each search in a separate cell because this felt neater to me.  But I wonder whether there can be a more economical way to do the searches, without having to repeat the tokenizing, and having the output yield the results for each word separately, with blank lines between the words. I did not try to do this because as I thought about how this search program could be useful for research on the Psalms, I realized that I would want indexing-- not just lists of the matched words, but the ability to locate the occurence at a chapter and line. \n",
    "In its current form, my coding seemed more useful for counting occurences than finding them, so I added a counter. (For consistency, I did this even where the count can be seen at a glance).\n",
    "\n",
    "Casefolding was not necessary, because the only upper-case letters in the text are those used for proper names.\n",
    "I was not sure whether the upsilon in γυν- words ever takes any accent, and whether the coding would catch accented letters in case it does. So I emended the search to add the alternative of unaccented or accented upsilon.  I saw I did not need to add the nu, since the list was identical to the γυν search.\n",
    "\n",
    "For son, I initially searched for υἱο, but realized this was not capturing the whole list.  Before playing with possible regex options, I tried searching for just υἱ and all of the output are \"son\" words, so I did not need to fiddle further. \n",
    "\n",
    "Another approach I would be interested to explore would be to try to use word frequencies to identify key motifs in the text, and see if there are any clusters of the above family/gender terms in relation to the motifs. I recognize that this is the sort of task, at this small scope, that is better suited to manual close-reading than computational analysis, but I think it might be a useful exercise.  I also wonder whether there could be any point to isolating masculine and feminine verbs and adjectives; I think not, but what prompts this thought is that Jerusalem, as a city, is feminine and the personification of the city is very gendered.\n",
    "\n"
   ]
  }
 ],
 "metadata": {
  "kernelspec": {
   "display_name": "Python 3",
   "language": "python",
   "name": "python3"
  },
  "language_info": {
   "codemirror_mode": {
    "name": "ipython",
    "version": 3
   },
   "file_extension": ".py",
   "mimetype": "text/x-python",
   "name": "python",
   "nbconvert_exporter": "python",
   "pygments_lexer": "ipython3",
   "version": "3.7.3"
  }
 },
 "nbformat": 4,
 "nbformat_minor": 2
}
